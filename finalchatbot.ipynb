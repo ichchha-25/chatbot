{
 "cells": [
  {
   "cell_type": "code",
   "execution_count": null,
   "id": "57d88563-32df-4052-b06c-d4ca8f4aca4c",
   "metadata": {},
   "outputs": [],
   "source": [
    "import numpy as np\n",
    "import nltk\n",
    "import string\n",
    "import random\n",
    "\n"
   ]
  },
  {
   "cell_type": "code",
   "execution_count": 2,
   "id": "4f0291f5-6d5c-47cb-9f2a-7505e09e0926",
   "metadata": {},
   "outputs": [
    {
     "name": "stderr",
     "output_type": "stream",
     "text": [
      "[nltk_data] Downloading package punkt to\n",
      "[nltk_data]     C:\\Users\\sonak\\AppData\\Roaming\\nltk_data...\n",
      "[nltk_data]   Package punkt is already up-to-date!\n",
      "[nltk_data] Error loading Wordnet: Package 'Wordnet' not found in\n",
      "[nltk_data]     index\n"
     ]
    },
    {
     "name": "stdout",
     "output_type": "stream",
     "text": [
      "['pk\\x03\\x04\\x14\\x00\\x06\\x00\\x08\\x00\\x00\\x00!\\x00\\x1ca¨.f\\x01\\x00\\x00t\\x05\\x00\\x00\\x13\\x00\\x08\\x02[content_types].xml ¢\\x04\\x02(\\xa0\\x00\\x02\\x00\\x00\\x00\\x00\\x00\\x00\\x00\\x00\\x00\\x00\\x00\\x00\\x00\\x00\\x00\\x00\\x00\\x00\\x00\\x00\\x00\\x00\\x00\\x00\\x00\\x00\\x00\\x00\\x00\\x00\\x00\\x00\\x00\\x00\\x00\\x00\\x00\\x00\\x00\\x00\\x00\\x00\\x00\\x00\\x00\\x00\\x00\\x00\\x00\\x00\\x00\\x00\\x00\\x00\\x00\\x00\\x00\\x00\\x00\\x00\\x00\\x00\\x00\\x00\\x00\\x00\\x00\\x00\\x00\\x00\\x00\\x00\\x00\\x00\\x00\\x00\\x00\\x00\\x00\\x00\\x00\\x00\\x00\\x00\\x00\\x00\\x00\\x00\\x00\\x00\\x00\\x00\\x00\\x00\\x00\\x00\\x00\\x00\\x00\\x00\\x00\\x00\\x00\\x00\\x00\\x00\\x00\\x00\\x00\\x00\\x00\\x00\\x00\\x00\\x00\\x00\\x00\\x00\\x00\\x00\\x00\\x00\\x00\\x00\\x00\\x00\\x00\\x00\\x00\\x00\\x00\\x00\\x00\\x00\\x00\\x00\\x00\\x00\\x00\\x00\\x00\\x00\\x00\\x00\\x00\\x00\\x00\\x00\\x00\\x00\\x00\\x00\\x00\\x00\\x00\\x00\\x00\\x00\\x00\\x00\\x00\\x00\\x00\\x00\\x00\\x00\\x00\\x00\\x00\\x00\\x00\\x00\\x00\\x00\\x00\\x00\\x00\\x00\\x00\\x00\\x00\\x00\\x00\\x00\\x00\\x00\\x00\\x00\\x00\\x00\\x00\\x00\\x00\\x00\\x00\\x00\\x00\\x00\\x00\\x00\\x00\\x00\\x00\\x00\\x00\\x00\\x00\\x00\\x00\\x00\\x00\\x00\\x00\\x00\\x00\\x00\\x00\\x00\\x00\\x00\\x00\\x00\\x00\\x00\\x00\\x00\\x00\\x00\\x00\\x00\\x00\\x00\\x00\\x00\\x00\\x00\\x00\\x00\\x00\\x00\\x00\\x00\\x00\\x00\\x00\\x00\\x00\\x00\\x00\\x00\\x00\\x00\\x00\\x00\\x00\\x00\\x00\\x00\\x00\\x00\\x00\\x00\\x00\\x00\\x00\\x00\\x00\\x00\\x00\\x00\\x00\\x00\\x00\\x00\\x00\\x00\\x00\\x00\\x00\\x00\\x00\\x00\\x00\\x00\\x00\\x00\\x00\\x00\\x00\\x00\\x00\\x00\\x00\\x00\\x00\\x00\\x00\\x00\\x00\\x00\\x00\\x00\\x00\\x00\\x00\\x00\\x00\\x00\\x00\\x00\\x00\\x00\\x00\\x00\\x00\\x00\\x00\\x00\\x00\\x00\\x00\\x00\\x00\\x00\\x00\\x00\\x00\\x00\\x00\\x00\\x00\\x00\\x00\\x00\\x00\\x00\\x00\\x00\\x00\\x00\\x00\\x00\\x00\\x00\\x00\\x00\\x00\\x00\\x00\\x00\\x00\\x00\\x00\\x00\\x00\\x00\\x00\\x00\\x00\\x00\\x00\\x00\\x00\\x00\\x00\\x00\\x00\\x00\\x00\\x00\\x00\\x00\\x00\\x00\\x00\\x00\\x00\\x00\\x00\\x00\\x00\\x00\\x00\\x00\\x00\\x00\\x00\\x00\\x00\\x00\\x00\\x00\\x00\\x00\\x00\\x00\\x00\\x00\\x00\\x00\\x00\\x00\\x00\\x00\\x00\\x00\\x00\\x00\\x00\\x00\\x00\\x00\\x00\\x00\\x00\\x00\\x00\\x00\\x00\\x00\\x00\\x00\\x00\\x00\\x00\\x00\\x00\\x00\\x00\\x00\\x00\\x00\\x00\\x00\\x00\\x00\\x00\\x00\\x00\\x00\\x00\\x00\\x00\\x00\\x00\\x00\\x00\\x00\\x00\\x00\\x00\\x00\\x00\\x00\\x00\\x00\\x00\\x00\\x00\\x00\\x00\\x00\\x00\\x00\\x00\\x00\\x00\\x00\\x00\\x00\\x00\\x00\\x00\\x00\\x00\\x00\\x00\\x00\\x00\\x00\\x00\\x00\\x00\\x00\\x00\\x00\\x00\\x00\\x00\\x00\\x00\\x00\\x00\\x00\\x00\\x00\\x00\\x00\\x00\\x00\\x00\\x00\\x00\\x00\\x00\\x00\\x00\\x00\\x00\\x00\\x00\\x00´”ënƒ0\\x10e÷•ú\\x0fèû\\nœtquuh\\x16},ûhm?à±\\x07âö/ùîëï;@‚ª(\\x04©i6h0sï=\\x03xf“vé\\n|öäd˜\\nh\\x02†[!m™“¯ù[úh’\\x10™\\x11ly\\x039ùb “ñííh¶u\\x10\\x12t›“eœî‰òà\\x17\\xa0yè¬\\x03ƒ•âzí\"þú’:æ\\x7fx\\tô~0x\\xa0üš\\x08&¦±ò ãñ\\x0b\\x14l©bòºáç\\né·ƒ’$ïmc••\\x13©+ƒº@j<¨p\\xa0aî)éyä:]\\x19q@–î¨2tö=a!', ']¸ã†ž„ªò\\x1d°ó}àëôr@2e>¾3]tm½\\xa0âò¥fevúæ\\x08§-\\né¡õwnî[\\x0e!àwò*k+ši³çïä\\x08q« \\\\ž¢ñí‡\\x18qp\\n€s/â\\x1aæÿw£øcþ\\x0br`îœí\\x15\\\\\\x1e£µî…ˆxj¡¹\\x0eïæ¨mnebçô[\\x17p\\x0bø\\x7fœ½?²•:å\\x1dø(oÿum\"zÿ=\\x1ftû@€8’më8þ\\x05\\x00\\x00ÿÿ\\x03\\x00pk\\x03\\x04\\x14\\x00\\x06\\x00\\x08\\x00\\x00\\x00!\\x00\\x1e‘\\x1a·ï\\x00\\x00\\x00n\\x02\\x00\\x00\\x0b\\x00\\x08\\x02_rels/.rels ¢\\x04\\x02(\\xa0\\x00\\x02\\x00\\x00\\x00\\x00\\x00\\x00\\x00\\x00\\x00\\x00\\x00\\x00\\x00\\x00\\x00\\x00\\x00\\x00\\x00\\x00\\x00\\x00\\x00\\x00\\x00\\x00\\x00\\x00\\x00\\x00\\x00\\x00\\x00\\x00\\x00\\x00\\x00\\x00\\x00\\x00\\x00\\x00\\x00\\x00\\x00\\x00\\x00\\x00\\x00\\x00\\x00\\x00\\x00\\x00\\x00\\x00\\x00\\x00\\x00\\x00\\x00\\x00\\x00\\x00\\x00\\x00\\x00\\x00\\x00\\x00\\x00\\x00\\x00\\x00\\x00\\x00\\x00\\x00\\x00\\x00\\x00\\x00\\x00\\x00\\x00\\x00\\x00\\x00\\x00\\x00\\x00\\x00\\x00\\x00\\x00\\x00\\x00\\x00\\x00\\x00\\x00\\x00\\x00\\x00\\x00\\x00\\x00\\x00\\x00\\x00\\x00\\x00\\x00\\x00\\x00\\x00\\x00\\x00\\x00\\x00\\x00\\x00\\x00\\x00\\x00\\x00\\x00\\x00\\x00\\x00\\x00\\x00\\x00\\x00\\x00\\x00\\x00\\x00\\x00\\x00\\x00\\x00\\x00\\x00\\x00\\x00\\x00\\x00\\x00\\x00\\x00\\x00\\x00\\x00\\x00\\x00\\x00\\x00\\x00\\x00\\x00\\x00\\x00\\x00\\x00\\x00\\x00\\x00\\x00\\x00\\x00\\x00\\x00\\x00\\x00\\x00\\x00\\x00\\x00\\x00\\x00\\x00\\x00\\x00\\x00\\x00\\x00\\x00\\x00\\x00\\x00\\x00\\x00\\x00\\x00\\x00\\x00\\x00\\x00\\x00\\x00\\x00\\x00\\x00\\x00\\x00\\x00\\x00\\x00\\x00\\x00\\x00\\x00\\x00\\x00\\x00\\x00\\x00\\x00\\x00\\x00\\x00\\x00\\x00\\x00\\x00\\x00\\x00\\x00\\x00\\x00\\x00\\x00\\x00\\x00\\x00\\x00\\x00\\x00\\x00\\x00\\x00\\x00\\x00\\x00\\x00\\x00\\x00\\x00\\x00\\x00\\x00\\x00\\x00\\x00\\x00\\x00\\x00\\x00\\x00\\x00\\x00\\x00\\x00\\x00\\x00\\x00\\x00\\x00\\x00\\x00\\x00\\x00\\x00\\x00\\x00\\x00\\x00\\x00\\x00\\x00\\x00\\x00\\x00\\x00\\x00\\x00\\x00\\x00\\x00\\x00\\x00\\x00\\x00\\x00\\x00\\x00\\x00\\x00\\x00\\x00\\x00\\x00\\x00\\x00\\x00\\x00\\x00\\x00\\x00\\x00\\x00\\x00\\x00\\x00\\x00\\x00\\x00\\x00\\x00\\x00\\x00\\x00\\x00\\x00\\x00\\x00\\x00\\x00\\x00\\x00\\x00\\x00\\x00\\x00\\x00\\x00\\x00\\x00\\x00\\x00\\x00\\x00\\x00\\x00\\x00\\x00\\x00\\x00\\x00\\x00\\x00\\x00\\x00\\x00\\x00\\x00\\x00\\x00\\x00\\x00\\x00\\x00\\x00\\x00\\x00\\x00\\x00\\x00\\x00\\x00\\x00\\x00\\x00\\x00\\x00\\x00\\x00\\x00\\x00\\x00\\x00\\x00\\x00\\x00\\x00\\x00\\x00\\x00\\x00\\x00\\x00\\x00\\x00\\x00\\x00\\x00\\x00\\x00\\x00\\x00\\x00\\x00\\x00\\x00\\x00\\x00\\x00\\x00\\x00\\x00\\x00\\x00\\x00\\x00\\x00\\x00\\x00\\x00\\x00\\x00\\x00\\x00\\x00\\x00\\x00\\x00\\x00\\x00\\x00\\x00\\x00\\x00\\x00\\x00\\x00\\x00\\x00\\x00\\x00\\x00\\x00\\x00\\x00\\x00\\x00\\x00\\x00\\x00\\x00\\x00\\x00\\x00\\x00\\x00\\x00\\x00\\x00\\x00\\x00\\x00\\x00\\x00\\x00\\x00\\x00\\x00\\x00\\x00\\x00\\x00\\x00\\x00\\x00\\x00\\x00\\x00\\x00\\x00\\x00\\x00\\x00\\x00\\x00\\x00\\x00\\x00\\x00\\x00\\x00\\x00\\x00\\x00\\x00\\x00\\x00\\x00\\x00\\x00\\x00\\x00\\x00\\x00\\x00\\x00\\x00\\x00\\x00\\x00\\x00\\x00\\x00¬’ájã0\\x0c@ïƒýƒñ½qúá\\x18£n/cðû\\x18ù\\x07\\x08[il\\x13ûøj×þý<øø\\x02]éagëòó“ðzsœfuà”]ð\\x1a–u\\nš½\\töù^ã[û¼x\\x00•…¼¥1xöpâ\\x0c›æöfýê#i)êƒ‹y\\x15šï\\x1a\\x06‘øˆ˜íà\\x13å*döå§\\x0bi\")ïôc$³£žqu×÷˜~3\\xa0™1õöjh[{\\x07ª=e¾†\\x1dºî\\x19~\\nf?±—3-âþ²]ätê“¸2j)õ,\\x1al0/%œ‘b¬\\n\\x1að¼ñêz£¿§å‰…,\\t¡\\t‰/û|f\\\\\\x12zþçšæ\\x19?6ï!y´_áo\\x1bœ]aó\\x01\\x00\\x00ÿÿ\\x03\\x00pk\\x03\\x04\\x14\\x00\\x06\\x00\\x08\\x00\\x00\\x00!\\x00ç2+›a%\\x00\\x00ªú\\x00\\x00\\x11\\x00\\x00\\x00word/document.xmlì}ûžãf’èû\\x01ö\\x1f\\x12zy\\x1b(•î·úm\\x0fªt*»½¶·áîùábp0h‘))§h&‡—r«\\x0f\\x0epþáü€¿åÿ²_²\\x11‘$er—ê\\x12m©ª±\\x06ü%‰rffddü#ò_ÿôùuø“\\x08b©¼wîu»á„g)[zëw?\\x7fzhž\\x1b,œ¸gsgyâ]c#âæÿ¾û§ÿõ¯ë\\x1b[y±+¼ˆá\\x10^x³ö\\xadwu\\x14ù7\\xadvh\\xad„ëãkwz\\nõ\"º¶”ûr‹…´dk\\xad\\x02»õmwúôê\\x0f”%â\\x10æ›rï‰‡d8ë³ùhvà×ðc\\x1c°ß²v<ˆäçí\\x18\\x17\\x0f2hmzãýº\\'\\x0c\\x04\\x10v;»cõ^<ô°…«ú\\x19¨\\x7fò@°ª‘\\x06§´\\x07¸ái#uwg\\x1a6row¤ñi#í“»kàê\\x17\\x1e<\\\\¨àå\\x11¼\\n–-—\\x07±ß„}\\x1eé¹td´1ûãt\\x18.½ç\\x13v\\x04¿êfp{ö‹g\\x18µ\\\\e\\x0b§g§£¨w8ðn’ß7³ßãòoôï“?ù/„c6-l7i‰ï‘\\x13féo\\x03\\x13üéÿß\\'œ…°ö\\n„\\x03xt^¸’~æ\\x1düsgƒ‡«t§c\\x08xrô{k¿cxô\\x0e±¶{½\\nû\\x01m–ÿìëè•\\x1f\\x1f±ó6øm\\x1c\"û…é\\x12šs¦+q‚·\\x13ÿ„š\\x1cr;†ì\\'\\x1d\\xa0»3àð\\x12†â\"\\x1dcœœñ²¶§\\x1bç‘†ç*\\x1dgï\\nž#·ˆí\\x18òàòbr\\x03øñ‹†èöòuà\\x1füyn¬ðžìõë†k÷¨…¿å\\x11_ñ0;48¢x\\x19€ƒl¸›ã·¿¬v¨¾\\x0ftìog“õf{¿e¯ktt^0vr8ó\\x0c#¬¶˜+î\\x03×u\\xad›÷ko\\x05|îàšà¨18-œv\\x00ÿ\\x05¢ã?ôr|¦ïq¯ñ…\\x1d3äzï@o›+{ƒ\\x7f}xð¿ñyàß\\x03™\\x0fï\\x07£îlømð§ å\"üt”ü\\x07ÿþ€nhÿú®\\x01àí:£ñ0ûèc°çã{±à±\\x13í>ùû\\x08w\\x11ì\\x1d†ž|\\x08h¹-úw\\x1aâßvöiôý=\\x10\"\\x0b-\\tê©à\\x07‘~||ìè»ß\\x7f“!ãþï¿•~³úø\"p@¨²à\\x06}ðþîãš#¥œh\\x02ƒ~ïe\"°%ìèã×x°á§+\\x19f*ø€¦l\\x06lð1ú8°y7o\\x1cdç\\x0féœ\\x12l²<wa±\\xadüjÿ\\x07—[ü\\x16@ml!…c?\\x0fõ\\x00áâžµr0š%#ñ7oe¢ùùƒá…ïd\\x10ý:ré¥ïã\\x18ž‡v ý¨œ¿vþw\\x05\\x14d+\\x1e±8\\x14¡é®\\x13¥f»þ1\\x02e#œ¤\\x15ö¸ýa6éé@^™€fçx\\x0b\\x1ažh\\x02ãa¨œæ\\x11é\\x0fõ\\x01¹gºzá\\x1d\\x1f\\x02×\\x15ñjùçuïuacy\"\\x06dh\\x04ôä\\x10ðo2œ¹#¿ò|\\x1eø\\x0bsö»×v\\x01î[g©\\x02\\x19\\xadü\\x1a\\x01åé\\x1c§o.pgïfá&œ„\\x1b²h1\\x10»\\x01·\"¦\\x02ýòw`ì\\x08#\\x04\\x10ƒî\\x10ðožz;â^š\\x1a\\x11ð˜îq\\x11~é…r¹šb¶\\x08”ë|6@?üq6ìs2ü\\\\±0\\nb+š\\x03a_\\x01fœ°zì\\x16\\x1b\\x7fö¶c0ô`käj\\\\žëdì\\\\\\x1bàùû/\\xad\\tüëiëî1i\\nï|ü^qÿì÷\\'wýû)rñ+ñ?‹*&ãn¨\\x18*fë\\x00ždèl…v/ë\\x0e¦þh%xìù\\x00ë\\x06ä\\x1bã>(p\\x16ñ¿ô\\x07ßˆëåõ\\x15ó8p\\x08wòáã+\\x18[›úøýhx+o9j\\tôgä\\x15¶´¤\\'¾5¡\\tò[wi‚hår4ñ«¢á\\x15v\\x02\\x14x\\x17öv.¸%\"8dˆ ‹{l.˜-pö9~\\x08z~ú\\x0bà!']\n",
      "['pk\\x03\\x04\\x14\\x00\\x06\\x00\\x08\\x00\\x00\\x00', '!']\n"
     ]
    }
   ],
   "source": [
    "import nltk\n",
    "from nltk.tokenize import sent_tokenize, word_tokenize\n",
    "\n",
    "\n",
    "f=open('chatbot.docx','r',errors='ignore')\n",
    "raw_doc=f.read()\n",
    "\n",
    "# Download necessary NLTK resources\n",
    "nltk.download('punkt')\n",
    "nltk.download('Wordnet')\n",
    "\n",
    "# Open and read the .docx file\n",
    "\n",
    "\n",
    "raw_doc = raw_doc.lower()\n",
    "\n",
    "# Tokenize sentences and words\n",
    "sent_tokens = sent_tokenize(raw_doc)\n",
    "word_tokens = word_tokenize(raw_doc)\n",
    "\n",
    "# Output the first 2 sentence tokens and word tokens\n",
    "print(sent_tokens[:2])\n",
    "print(word_tokens[:2])\n"
   ]
  },
  {
   "cell_type": "code",
   "execution_count": 9,
   "id": "cb6eec39-bf21-44ea-be06-c3397a8db598",
   "metadata": {},
   "outputs": [],
   "source": [
    "#text preprocessing\n",
    "lemmer=nltk.stem.WordNetLemmatizer()\n",
    "\n",
    "def LemTokens(tokens):\n",
    "    return[lemmer.lemmatize(token) for token in tokens]\n",
    "remove_punct_dict=dict((ord(punct),None)for punct in string.punctuation)\n",
    "def LemNormalize(text):\n",
    "    return LemTokens(nltk.word_tokenize(text.lower().translate(remove_punct_dict)))\n",
    "    "
   ]
  },
  {
   "cell_type": "code",
   "execution_count": 6,
   "id": "7dc759d2-1488-44dd-a011-dd185395103c",
   "metadata": {},
   "outputs": [],
   "source": [
    "#defining greet function\n",
    "greet_input=(\"hello\",\"hi\",\"What's UP!\",\"hey\")\n",
    "greet_response=[\"hi\",\"hey\",\"hi there\"]\n",
    "\n",
    "def greet(sentence):\n",
    "    for word in sentence.split():\n",
    "        if word.lower() in greet_input:\n",
    "            return random.choice(greet_response)"
   ]
  },
  {
   "cell_type": "code",
   "execution_count": 4,
   "id": "ea064a27-b30c-4ef9-8d04-eefb86c2185e",
   "metadata": {},
   "outputs": [],
   "source": [
    "#response generation\n",
    "from sklearn.feature_extraction.text import TfidfVectorizer\n",
    "from sklearn.metrics.pairwise import cosine_similarity\n",
    "\n",
    "# Example lemmatizer and normalizer (this is optional)\n",
    "import nltk\n",
    "from nltk.stem import WordNetLemmatizer\n",
    "import string\n",
    "\n",
    "# Lemmatization and normalization function\n",
    "def LemNormalize(text):\n",
    "    lemmatizer = WordNetLemmatizer()\n",
    "    return [lemmatizer.lemmatize(word) for word in nltk.word_tokenize(text.lower()) if word not in string.punctuation]\n",
    "\n",
    "# Define the response function\n",
    "def response(user_response, sent_tokens):\n",
    "    robol_response = ''\n",
    "    sent_tokens.append(user_response)  # Add user input to the token list\n",
    "\n",
    "    # Create TF-IDF Vectorizer with lemmatization and stopwords\n",
    "    TfidfVec = TfidfVectorizer(tokenizer=LemNormalize, stop_words='english')\n",
    "    tfidf = TfidfVec.fit_transform(sent_tokens)  # Fit and transform the text\n",
    "\n",
    "    vals = cosine_similarity(tfidf[-1], tfidf)  # Get cosine similarity values\n",
    "    idx = vals.argsort()[0][-2]  # Get the index of the most similar response\n",
    "\n",
    "    flat = vals.flatten()\n",
    "    flat.sort()\n",
    "    req_tfidf = flat[-2]\n",
    "\n",
    "    if req_tfidf == 0:\n",
    "        robol_response = \"I am sorry, I don't understand.\"\n",
    "    else:\n",
    "        robol_response = sent_tokens[idx]\n",
    "    \n",
    "    sent_tokens.pop()  # Remove user input from the tokens list after processing\n",
    "    return robol_response\n"
   ]
  },
  {
   "cell_type": "code",
   "execution_count": null,
   "id": "4fa55a16-6933-4858-8eff-69ffb885a080",
   "metadata": {},
   "outputs": [
    {
     "name": "stdout",
     "output_type": "stream",
     "text": [
      "BOT:My Name is Start.Let's Have a conversation !Also if you want to exit anytime, just type bye!!\n"
     ]
    },
    {
     "name": "stdin",
     "output_type": "stream",
     "text": [
      " hi\n"
     ]
    }
   ],
   "source": [
    "#defining conversation start/end protocols\n",
    "flag=True\n",
    "print(\"BOT:My Name is Start.Let's Have a conversation !Also if you want to exit anytime, just type bye!!\")\n",
    "while flag==True:\n",
    "    user_response=input()\n",
    "    user_response=user_response.lower()\n",
    "if( user_response!=\"bye\"):\n",
    "    if user_response=='thanks' or  user_response=='thankyou':\n",
    "         flag=False\n",
    "         print(\"BOT: You're welcome\")\n",
    "    else:\n",
    "        sent_tokens=append( user_response)\n",
    "        word_tokens=word_tokens+nltk.word_tokenize( user_response)\n",
    "        finalwords=list(set(word_tokens))\n",
    "        print(\"BOT:\",end=\" \")\n",
    "        print(response( user_response))\n",
    "        sent_tokens.remove( user_response)\n",
    "else:\n",
    "    flag=False\n",
    "    print(\"BOT:Goodbye!Take Care<3\")\n"
   ]
  },
  {
   "cell_type": "code",
   "execution_count": null,
   "id": "6bf606d2-6428-4c48-9032-7ed8bb068e2c",
   "metadata": {},
   "outputs": [],
   "source": []
  }
 ],
 "metadata": {
  "kernelspec": {
   "display_name": "Python 3 (ipykernel)",
   "language": "python",
   "name": "python3"
  },
  "language_info": {
   "codemirror_mode": {
    "name": "ipython",
    "version": 3
   },
   "file_extension": ".py",
   "mimetype": "text/x-python",
   "name": "python",
   "nbconvert_exporter": "python",
   "pygments_lexer": "ipython3",
   "version": "3.12.3"
  }
 },
 "nbformat": 4,
 "nbformat_minor": 5
}
